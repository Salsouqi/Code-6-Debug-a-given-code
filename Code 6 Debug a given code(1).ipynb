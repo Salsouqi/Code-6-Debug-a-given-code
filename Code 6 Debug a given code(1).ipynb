{
 "cells": [
  {
   "cell_type": "code",
   "execution_count": 6,
   "id": "52bbedfe",
   "metadata": {},
   "outputs": [],
   "source": [
    "# Function to check if a number is prime\n",
    "def is_prime(number):\n",
    "    if number <= 1:\n",
    "        return False\n",
    "    if number == 2:\n",
    "        return True\n",
    "    for i in range(2, number):\n",
    "        if number % i == 0:\n",
    "            return False\n",
    "    return True"
   ]
  },
  {
   "cell_type": "code",
   "execution_count": null,
   "id": "19cc225c",
   "metadata": {},
   "outputs": [],
   "source": [
    "# Main program\n",
    "print(\"Prime Number Finder\")"
   ]
  },
  {
   "cell_type": "code",
   "execution_count": 34,
   "id": "b58ecb2e",
   "metadata": {},
   "outputs": [
    {
     "name": "stdout",
     "output_type": "stream",
     "text": [
      "Enter the starting number: 19\n",
      "Enter the ending number: 12\n"
     ]
    }
   ],
   "source": [
    "# Get user input\n",
    "start = int(input(\"Enter the starting number: \"))\n",
    "end = int(input(\"Enter the ending number: \"))"
   ]
  },
  {
   "cell_type": "code",
   "execution_count": 35,
   "id": "e00dbe89",
   "metadata": {},
   "outputs": [],
   "source": [
    "# Swap start and end if start is greater\n",
    "if start > end:\n",
    "    start, end = end, start"
   ]
  },
  {
   "cell_type": "code",
   "execution_count": 36,
   "id": "09869dbd",
   "metadata": {},
   "outputs": [
    {
     "name": "stdout",
     "output_type": "stream",
     "text": [
      "Prime numbers between 12 and 19:\n",
      "13 17 19 "
     ]
    }
   ],
   "source": [
    "# Find and print prime numbers\n",
    "print(f\"Prime numbers between {start} and {end}:\")\n",
    "for num in range(start, end + 1):\n",
    "    if is_prime(num):\n",
    "        print(num, end=\" \")"
   ]
  }
 ],
 "metadata": {
  "kernelspec": {
   "display_name": "Python 3 (ipykernel)",
   "language": "python",
   "name": "python3"
  },
  "language_info": {
   "codemirror_mode": {
    "name": "ipython",
    "version": 3
   },
   "file_extension": ".py",
   "mimetype": "text/x-python",
   "name": "python",
   "nbconvert_exporter": "python",
   "pygments_lexer": "ipython3",
   "version": "3.11.4"
  }
 },
 "nbformat": 4,
 "nbformat_minor": 5
}
